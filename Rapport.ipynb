{
 "cells": [
  {
   "cell_type": "markdown",
   "metadata": {},
   "source": [
    "# *RAPPORT*: "
   ]
  },
  {
   "cell_type": "markdown",
   "metadata": {},
   "source": [
    "##  1. Analyse exploratoire.\n",
    "\n",
    "Notre mission est de créer un plan de raccordement qui priorise les batiments les plus simples à raccorder (en minimisant les coûts) tout en maximisant le nombre de prises raccordées. Toutefois, il est important de bien comprendre nos données, c'est la raison pour laquelle une attention particulière est accordée à l'analyse exploratoire. \n"
   ]
  },
  {
   "cell_type": "code",
   "execution_count": 1,
   "metadata": {},
   "outputs": [],
   "source": [
    "# importons nos packages\n",
    "\n",
    "import pandas as pd\n",
    "\n",
    "import numpy as np \n",
    "\n",
    "import matplotlib.pyplot as plt"
   ]
  },
  {
   "cell_type": "code",
   "execution_count": 2,
   "metadata": {},
   "outputs": [
    {
     "data": {
      "text/html": [
       "<div>\n",
       "<style scoped>\n",
       "    .dataframe tbody tr th:only-of-type {\n",
       "        vertical-align: middle;\n",
       "    }\n",
       "\n",
       "    .dataframe tbody tr th {\n",
       "        vertical-align: top;\n",
       "    }\n",
       "\n",
       "    .dataframe thead th {\n",
       "        text-align: right;\n",
       "    }\n",
       "</style>\n",
       "<table border=\"1\" class=\"dataframe\">\n",
       "  <thead>\n",
       "    <tr style=\"text-align: right;\">\n",
       "      <th></th>\n",
       "      <th>id_batiment</th>\n",
       "      <th>nb_maisons</th>\n",
       "      <th>infra_id</th>\n",
       "      <th>infra_type</th>\n",
       "      <th>longueur</th>\n",
       "    </tr>\n",
       "  </thead>\n",
       "  <tbody>\n",
       "    <tr>\n",
       "      <th>0</th>\n",
       "      <td>E000001</td>\n",
       "      <td>4</td>\n",
       "      <td>P007111</td>\n",
       "      <td>infra_intacte</td>\n",
       "      <td>12.314461</td>\n",
       "    </tr>\n",
       "    <tr>\n",
       "      <th>1</th>\n",
       "      <td>E000001</td>\n",
       "      <td>4</td>\n",
       "      <td>P007983</td>\n",
       "      <td>infra_intacte</td>\n",
       "      <td>40.320929</td>\n",
       "    </tr>\n",
       "    <tr>\n",
       "      <th>2</th>\n",
       "      <td>E000001</td>\n",
       "      <td>4</td>\n",
       "      <td>P000308</td>\n",
       "      <td>infra_intacte</td>\n",
       "      <td>39.140799</td>\n",
       "    </tr>\n",
       "    <tr>\n",
       "      <th>3</th>\n",
       "      <td>E000001</td>\n",
       "      <td>4</td>\n",
       "      <td>P007819</td>\n",
       "      <td>infra_intacte</td>\n",
       "      <td>17.390464</td>\n",
       "    </tr>\n",
       "    <tr>\n",
       "      <th>4</th>\n",
       "      <td>E000002</td>\n",
       "      <td>1</td>\n",
       "      <td>P007111</td>\n",
       "      <td>infra_intacte</td>\n",
       "      <td>12.314461</td>\n",
       "    </tr>\n",
       "  </tbody>\n",
       "</table>\n",
       "</div>"
      ],
      "text/plain": [
       "  id_batiment  nb_maisons infra_id     infra_type   longueur\n",
       "0     E000001           4  P007111  infra_intacte  12.314461\n",
       "1     E000001           4  P007983  infra_intacte  40.320929\n",
       "2     E000001           4  P000308  infra_intacte  39.140799\n",
       "3     E000001           4  P007819  infra_intacte  17.390464\n",
       "4     E000002           1  P007111  infra_intacte  12.314461"
      ]
     },
     "execution_count": 2,
     "metadata": {},
     "output_type": "execute_result"
    }
   ],
   "source": [
    "# on charge notre dataframe: \n",
    "\n",
    "df = pd.read_csv(\"./reseau_en_arbre.csv\")\n",
    "\n",
    "# on affiche les cinq premières lignes de ce dataframe\n",
    "\n",
    "df.head(10)"
   ]
  },
  {
   "cell_type": "markdown",
   "metadata": {},
   "source": [
    "On constate que notre jeu de donnée a été  bien importé.  "
   ]
  },
  {
   "cell_type": "code",
   "execution_count": 4,
   "metadata": {},
   "outputs": [
    {
     "name": "stdout",
     "output_type": "stream",
     "text": [
      "Notre jeu de donnée a 6107 lignes et 5 colonnes.\n"
     ]
    }
   ],
   "source": [
    "a, b = df.shape\n",
    "print(f'Notre jeu de donnée a {a} lignes et {b} colonnes.')"
   ]
  },
  {
   "cell_type": "code",
   "execution_count": 5,
   "metadata": {},
   "outputs": [
    {
     "name": "stdout",
     "output_type": "stream",
     "text": [
      "<class 'pandas.core.frame.DataFrame'>\n",
      "RangeIndex: 6107 entries, 0 to 6106\n",
      "Data columns (total 5 columns):\n",
      " #   Column       Non-Null Count  Dtype  \n",
      "---  ------       --------------  -----  \n",
      " 0   id_batiment  6107 non-null   object \n",
      " 1   nb_maisons   6107 non-null   int64  \n",
      " 2   infra_id     6107 non-null   object \n",
      " 3   infra_type   6107 non-null   object \n",
      " 4   longueur     6107 non-null   float64\n",
      "dtypes: float64(1), int64(1), object(3)\n",
      "memory usage: 238.7+ KB\n"
     ]
    }
   ],
   "source": [
    "# Renseignons nous sur ce dataframe\n",
    "df.info()"
   ]
  },
  {
   "cell_type": "markdown",
   "metadata": {},
   "source": [
    "`id_batiment`, `infra_id`,`infra_id` sont de type object. Connaitre la nature de ces variables nous sera utilse plus tard lors de l'implémentation de notre solution de raccordement. \n",
    "\n",
    "il est bon à remarqué que notre dataframe n'a pas de valeurs manquantes. "
   ]
  },
  {
   "cell_type": "code",
   "execution_count": 9,
   "metadata": {},
   "outputs": [
    {
     "data": {
      "text/plain": [
       "False    5586\n",
       "True      521\n",
       "Name: count, dtype: int64"
      ]
     },
     "execution_count": 9,
     "metadata": {},
     "output_type": "execute_result"
    }
   ],
   "source": [
    "df.duplicated().value_counts()"
   ]
  },
  {
   "cell_type": "code",
   "execution_count": 10,
   "metadata": {},
   "outputs": [
    {
     "data": {
      "text/plain": [
       "id_batiment    0\n",
       "nb_maisons     0\n",
       "infra_id       0\n",
       "infra_type     0\n",
       "longueur       0\n",
       "dtype: int64"
      ]
     },
     "execution_count": 10,
     "metadata": {},
     "output_type": "execute_result"
    }
   ],
   "source": [
    "# on peut regarder si des données sont manquantes.\n",
    "\n",
    "df.isnull().sum()\n"
   ]
  },
  {
   "cell_type": "code",
   "execution_count": 13,
   "metadata": {},
   "outputs": [
    {
     "data": {
      "text/html": [
       "<div>\n",
       "<style scoped>\n",
       "    .dataframe tbody tr th:only-of-type {\n",
       "        vertical-align: middle;\n",
       "    }\n",
       "\n",
       "    .dataframe tbody tr th {\n",
       "        vertical-align: top;\n",
       "    }\n",
       "\n",
       "    .dataframe thead th {\n",
       "        text-align: right;\n",
       "    }\n",
       "</style>\n",
       "<table border=\"1\" class=\"dataframe\">\n",
       "  <thead>\n",
       "    <tr style=\"text-align: right;\">\n",
       "      <th></th>\n",
       "      <th>nb_maisons</th>\n",
       "      <th>longueur</th>\n",
       "    </tr>\n",
       "  </thead>\n",
       "  <tbody>\n",
       "    <tr>\n",
       "      <th>count</th>\n",
       "      <td>6107.000000</td>\n",
       "      <td>6107.000000</td>\n",
       "    </tr>\n",
       "    <tr>\n",
       "      <th>mean</th>\n",
       "      <td>1.016211</td>\n",
       "      <td>29.314081</td>\n",
       "    </tr>\n",
       "    <tr>\n",
       "      <th>std</th>\n",
       "      <td>0.203714</td>\n",
       "      <td>21.681575</td>\n",
       "    </tr>\n",
       "    <tr>\n",
       "      <th>min</th>\n",
       "      <td>1.000000</td>\n",
       "      <td>0.372684</td>\n",
       "    </tr>\n",
       "    <tr>\n",
       "      <th>25%</th>\n",
       "      <td>1.000000</td>\n",
       "      <td>8.476727</td>\n",
       "    </tr>\n",
       "    <tr>\n",
       "      <th>50%</th>\n",
       "      <td>1.000000</td>\n",
       "      <td>27.771443</td>\n",
       "    </tr>\n",
       "    <tr>\n",
       "      <th>75%</th>\n",
       "      <td>1.000000</td>\n",
       "      <td>49.956115</td>\n",
       "    </tr>\n",
       "    <tr>\n",
       "      <th>max</th>\n",
       "      <td>4.000000</td>\n",
       "      <td>76.985593</td>\n",
       "    </tr>\n",
       "  </tbody>\n",
       "</table>\n",
       "</div>"
      ],
      "text/plain": [
       "        nb_maisons     longueur\n",
       "count  6107.000000  6107.000000\n",
       "mean      1.016211    29.314081\n",
       "std       0.203714    21.681575\n",
       "min       1.000000     0.372684\n",
       "25%       1.000000     8.476727\n",
       "50%       1.000000    27.771443\n",
       "75%       1.000000    49.956115\n",
       "max       4.000000    76.985593"
      ]
     },
     "execution_count": 13,
     "metadata": {},
     "output_type": "execute_result"
    }
   ],
   "source": [
    "# Quelques statistiques descriptives \n",
    "\n",
    "df.describe()"
   ]
  },
  {
   "cell_type": "code",
   "execution_count": 16,
   "metadata": {},
   "outputs": [
    {
     "data": {
      "text/plain": [
       "<Axes: xlabel='infra_type'>"
      ]
     },
     "execution_count": 16,
     "metadata": {},
     "output_type": "execute_result"
    },
    {
     "data": {
      "image/png": "[encoded data removed]",
      "text/plain": [
       "<Figure size 640x480 with 1 Axes>"
      ]
     },
     "metadata": {},
     "output_type": "display_data"
    }
   ],
   "source": [
    "# regarder par type d'infrastructure \n",
    "\n",
    "df['infra_type'].value_counts().plot(kind = \"bar\")\n"
   ]
  },
  {
   "cell_type": "markdown",
   "metadata": {},
   "source": [
    "Il y a plus d'infrastructure intacte que d'infrastructure à remplacer. "
   ]
  },
  {
   "cell_type": "markdown",
   "metadata": {},
   "source": [
    "## 2. CHOIX DES METRIQUES\n",
    "MODELISATION\n",
    "PROPOSITION DE SOLUTION\n",
    "SHAPEFILES\n",
    "DISCUSSION\n",
    "\n",
    "Pour pouvoir effectuer une planification, il nous a fallu choisir une métrique. Cela n'a pas été chose aisée mais la métrique que nous avons décidé d'utiliser est la *difficulté de raccordement d'une batiment*. Cependant, l'obtention de cette métrique passe d'abord par calculer:\n",
    "- La difficulté de raccordement d'une infrastructure dans un premier temps,\n",
    "- La difficulté de raccordement d'un batiment dans un second temps qui est la somme des raccordement des infrastructures appliqué aux batiments. \n",
    "\n",
    "Les formules sont:\n",
    "\n",
    "- Difficulté(infra) = longueur / nombre de maison qu’elle permet de raccorder\n",
    "- Difficulté(batîment) = somme(difficultés des infras qui permettent de le raccorder)\n",
    "\n",
    "\n",
    "\n",
    "\n",
    "\n"
   ]
  },
  {
   "cell_type": "markdown",
   "metadata": {},
   "source": [
    "## 3. Modélisation\n",
    "\n",
    "Pour répondre au problème qui nous a été posé, nous avons proposé deux approches: Une approche procédurale et une approche par la programmation orientée objet. \n",
    "\n",
    "L 'approche par la programmation orientée objet a été développé dans le dossier prévu à cet effet.\n",
    "Dans ce rapport et pour un soucis de clarté, nous avons décidé de présenter l'approche procédurale."
   ]
  },
  {
   "cell_type": "markdown",
   "metadata": {},
   "source": [
    "#### a. difficulté de raccordement d'infrastructure"
   ]
  },
  {
   "cell_type": "code",
   "execution_count": 24,
   "metadata": {},
   "outputs": [
    {
     "data": {
      "text/html": [
       "<div>\n",
       "<style scoped>\n",
       "    .dataframe tbody tr th:only-of-type {\n",
       "        vertical-align: middle;\n",
       "    }\n",
       "\n",
       "    .dataframe tbody tr th {\n",
       "        vertical-align: top;\n",
       "    }\n",
       "\n",
       "    .dataframe thead th {\n",
       "        text-align: right;\n",
       "    }\n",
       "</style>\n",
       "<table border=\"1\" class=\"dataframe\">\n",
       "  <thead>\n",
       "    <tr style=\"text-align: right;\">\n",
       "      <th></th>\n",
       "      <th>id_batiment</th>\n",
       "      <th>nb_maisons</th>\n",
       "      <th>infra_id</th>\n",
       "      <th>infra_type</th>\n",
       "      <th>longueur</th>\n",
       "      <th>nb_maison_total</th>\n",
       "      <th>diff_infra</th>\n",
       "    </tr>\n",
       "  </thead>\n",
       "  <tbody>\n",
       "    <tr>\n",
       "      <th>0</th>\n",
       "      <td>E000001</td>\n",
       "      <td>4</td>\n",
       "      <td>P007111</td>\n",
       "      <td>infra_intacte</td>\n",
       "      <td>12.314461</td>\n",
       "      <td>422</td>\n",
       "      <td>0.0</td>\n",
       "    </tr>\n",
       "    <tr>\n",
       "      <th>1</th>\n",
       "      <td>E000001</td>\n",
       "      <td>4</td>\n",
       "      <td>P007983</td>\n",
       "      <td>infra_intacte</td>\n",
       "      <td>40.320929</td>\n",
       "      <td>46</td>\n",
       "      <td>0.0</td>\n",
       "    </tr>\n",
       "    <tr>\n",
       "      <th>2</th>\n",
       "      <td>E000001</td>\n",
       "      <td>4</td>\n",
       "      <td>P000308</td>\n",
       "      <td>infra_intacte</td>\n",
       "      <td>39.140799</td>\n",
       "      <td>39</td>\n",
       "      <td>0.0</td>\n",
       "    </tr>\n",
       "    <tr>\n",
       "      <th>3</th>\n",
       "      <td>E000001</td>\n",
       "      <td>4</td>\n",
       "      <td>P007819</td>\n",
       "      <td>infra_intacte</td>\n",
       "      <td>17.390464</td>\n",
       "      <td>4</td>\n",
       "      <td>0.0</td>\n",
       "    </tr>\n",
       "    <tr>\n",
       "      <th>4</th>\n",
       "      <td>E000002</td>\n",
       "      <td>1</td>\n",
       "      <td>P007111</td>\n",
       "      <td>infra_intacte</td>\n",
       "      <td>12.314461</td>\n",
       "      <td>422</td>\n",
       "      <td>0.0</td>\n",
       "    </tr>\n",
       "    <tr>\n",
       "      <th>5</th>\n",
       "      <td>E000002</td>\n",
       "      <td>1</td>\n",
       "      <td>P007983</td>\n",
       "      <td>infra_intacte</td>\n",
       "      <td>40.320929</td>\n",
       "      <td>46</td>\n",
       "      <td>0.0</td>\n",
       "    </tr>\n",
       "    <tr>\n",
       "      <th>6</th>\n",
       "      <td>E000002</td>\n",
       "      <td>1</td>\n",
       "      <td>P000308</td>\n",
       "      <td>infra_intacte</td>\n",
       "      <td>39.140799</td>\n",
       "      <td>39</td>\n",
       "      <td>0.0</td>\n",
       "    </tr>\n",
       "    <tr>\n",
       "      <th>7</th>\n",
       "      <td>E000002</td>\n",
       "      <td>1</td>\n",
       "      <td>P007240</td>\n",
       "      <td>infra_intacte</td>\n",
       "      <td>10.914626</td>\n",
       "      <td>1</td>\n",
       "      <td>0.0</td>\n",
       "    </tr>\n",
       "    <tr>\n",
       "      <th>8</th>\n",
       "      <td>E000003</td>\n",
       "      <td>1</td>\n",
       "      <td>P007111</td>\n",
       "      <td>infra_intacte</td>\n",
       "      <td>12.314461</td>\n",
       "      <td>422</td>\n",
       "      <td>0.0</td>\n",
       "    </tr>\n",
       "    <tr>\n",
       "      <th>9</th>\n",
       "      <td>E000003</td>\n",
       "      <td>1</td>\n",
       "      <td>P007111</td>\n",
       "      <td>infra_intacte</td>\n",
       "      <td>12.314461</td>\n",
       "      <td>422</td>\n",
       "      <td>0.0</td>\n",
       "    </tr>\n",
       "  </tbody>\n",
       "</table>\n",
       "</div>"
      ],
      "text/plain": [
       "  id_batiment  nb_maisons infra_id     infra_type   longueur  nb_maison_total  \\\n",
       "0     E000001           4  P007111  infra_intacte  12.314461              422   \n",
       "1     E000001           4  P007983  infra_intacte  40.320929               46   \n",
       "2     E000001           4  P000308  infra_intacte  39.140799               39   \n",
       "3     E000001           4  P007819  infra_intacte  17.390464                4   \n",
       "4     E000002           1  P007111  infra_intacte  12.314461              422   \n",
       "5     E000002           1  P007983  infra_intacte  40.320929               46   \n",
       "6     E000002           1  P000308  infra_intacte  39.140799               39   \n",
       "7     E000002           1  P007240  infra_intacte  10.914626                1   \n",
       "8     E000003           1  P007111  infra_intacte  12.314461              422   \n",
       "9     E000003           1  P007111  infra_intacte  12.314461              422   \n",
       "\n",
       "   diff_infra  \n",
       "0         0.0  \n",
       "1         0.0  \n",
       "2         0.0  \n",
       "3         0.0  \n",
       "4         0.0  \n",
       "5         0.0  \n",
       "6         0.0  \n",
       "7         0.0  \n",
       "8         0.0  \n",
       "9         0.0  "
      ]
     },
     "execution_count": 24,
     "metadata": {},
     "output_type": "execute_result"
    }
   ],
   "source": [
    "# on regroupe par rapport à infra_id\n",
    "infras = df.groupby('infra_id')\n",
    "\n",
    "# calcul de la difficulté de raccordement d'infrastructure\n",
    "\n",
    "df['nb_maison_total'] = infras['nb_maisons'].transform('sum')\n",
    "\n",
    "df['diff_infra'] = df['longueur'] / df['nb_maison_total']\n",
    "\n",
    "# on ne garde que  les données dont type d'infrastructure est à reparer\n",
    "\n",
    "df.loc[df['infra_type'] == 'infra_intacte', 'diff_infra'] = 0\n",
    "\n",
    "df.head(10)"
   ]
  },
  {
   "cell_type": "markdown",
   "metadata": {},
   "source": [
    "### b. Difficulté de raccordement de batiment\n",
    "\n",
    "On rappelle que cette métrique est la somme des difficultés des infrastructures qui permettent de raccorder un batiment. \n",
    "\n"
   ]
  },
  {
   "cell_type": "code",
   "execution_count": 25,
   "metadata": {},
   "outputs": [
    {
     "data": {
      "text/html": [
       "<div>\n",
       "<style scoped>\n",
       "    .dataframe tbody tr th:only-of-type {\n",
       "        vertical-align: middle;\n",
       "    }\n",
       "\n",
       "    .dataframe tbody tr th {\n",
       "        vertical-align: top;\n",
       "    }\n",
       "\n",
       "    .dataframe thead th {\n",
       "        text-align: right;\n",
       "    }\n",
       "</style>\n",
       "<table border=\"1\" class=\"dataframe\">\n",
       "  <thead>\n",
       "    <tr style=\"text-align: right;\">\n",
       "      <th></th>\n",
       "      <th>id_batiment</th>\n",
       "      <th>nb_maisons</th>\n",
       "      <th>infra_id</th>\n",
       "      <th>infra_type</th>\n",
       "      <th>longueur</th>\n",
       "      <th>nb_maison_total</th>\n",
       "      <th>diff_infra</th>\n",
       "      <th>diff_bat</th>\n",
       "    </tr>\n",
       "  </thead>\n",
       "  <tbody>\n",
       "    <tr>\n",
       "      <th>0</th>\n",
       "      <td>E000001</td>\n",
       "      <td>4</td>\n",
       "      <td>P007111</td>\n",
       "      <td>infra_intacte</td>\n",
       "      <td>12.314461</td>\n",
       "      <td>422</td>\n",
       "      <td>0.0</td>\n",
       "      <td>0.0</td>\n",
       "    </tr>\n",
       "    <tr>\n",
       "      <th>1</th>\n",
       "      <td>E000001</td>\n",
       "      <td>4</td>\n",
       "      <td>P007983</td>\n",
       "      <td>infra_intacte</td>\n",
       "      <td>40.320929</td>\n",
       "      <td>46</td>\n",
       "      <td>0.0</td>\n",
       "      <td>0.0</td>\n",
       "    </tr>\n",
       "    <tr>\n",
       "      <th>2</th>\n",
       "      <td>E000001</td>\n",
       "      <td>4</td>\n",
       "      <td>P000308</td>\n",
       "      <td>infra_intacte</td>\n",
       "      <td>39.140799</td>\n",
       "      <td>39</td>\n",
       "      <td>0.0</td>\n",
       "      <td>0.0</td>\n",
       "    </tr>\n",
       "    <tr>\n",
       "      <th>3</th>\n",
       "      <td>E000001</td>\n",
       "      <td>4</td>\n",
       "      <td>P007819</td>\n",
       "      <td>infra_intacte</td>\n",
       "      <td>17.390464</td>\n",
       "      <td>4</td>\n",
       "      <td>0.0</td>\n",
       "      <td>0.0</td>\n",
       "    </tr>\n",
       "    <tr>\n",
       "      <th>4</th>\n",
       "      <td>E000002</td>\n",
       "      <td>1</td>\n",
       "      <td>P007111</td>\n",
       "      <td>infra_intacte</td>\n",
       "      <td>12.314461</td>\n",
       "      <td>422</td>\n",
       "      <td>0.0</td>\n",
       "      <td>0.0</td>\n",
       "    </tr>\n",
       "  </tbody>\n",
       "</table>\n",
       "</div>"
      ],
      "text/plain": [
       "  id_batiment  nb_maisons infra_id     infra_type   longueur  nb_maison_total  \\\n",
       "0     E000001           4  P007111  infra_intacte  12.314461              422   \n",
       "1     E000001           4  P007983  infra_intacte  40.320929               46   \n",
       "2     E000001           4  P000308  infra_intacte  39.140799               39   \n",
       "3     E000001           4  P007819  infra_intacte  17.390464                4   \n",
       "4     E000002           1  P007111  infra_intacte  12.314461              422   \n",
       "\n",
       "   diff_infra  diff_bat  \n",
       "0         0.0       0.0  \n",
       "1         0.0       0.0  \n",
       "2         0.0       0.0  \n",
       "3         0.0       0.0  \n",
       "4         0.0       0.0  "
      ]
     },
     "execution_count": 25,
     "metadata": {},
     "output_type": "execute_result"
    }
   ],
   "source": [
    "\"\"\"Algorithme\"\"\"\n",
    "\n",
    "# on regroupe par rapport à l'id_batiment:\n",
    "\n",
    "bats = df.groupby(by='id_batiment')\n",
    "\n",
    "df[\"diff_bat\"]=bats[\"diff_infra\"].transform('sum')\n",
    "\n",
    "df.head(5)\n",
    "\n",
    "\n",
    "\n"
   ]
  },
  {
   "cell_type": "code",
   "execution_count": null,
   "metadata": {},
   "outputs": [],
   "source": [
    "# On supprime les doublons \n",
    "\n",
    "df_bat_diff=df_bat_diff.drop_duplicates()\n",
    "\n",
    "\n",
    "\n",
    "df_bat_diff=df_bat_diff.sort_values(by='diff_bat')\n",
    "\n",
    "df_bat_diff=df_bat_diff[df_bat_diff['diff_bat']>0]\n",
    "\n",
    "print(df_bat_diff)"
   ]
  },
  {
   "cell_type": "code",
   "execution_count": null,
   "metadata": {},
   "outputs": [],
   "source": [
    "### 4. Proposition de solutions\n"
   ]
  }
 ],
 "metadata": {
  "kernelspec": {
   "display_name": "Python 3",
   "language": "python",
   "name": "python3"
  },
  "language_info": {
   "codemirror_mode": {
    "name": "ipython",
    "version": 3
   },
   "file_extension": ".py",
   "mimetype": "text/x-python",
   "name": "python",
   "nbconvert_exporter": "python",
   "pygments_lexer": "ipython3",
   "version": "3.10.11"
  }
 },
 "nbformat": 4,
 "nbformat_minor": 2
}

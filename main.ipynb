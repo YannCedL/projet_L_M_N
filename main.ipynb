{
 "cells": [
  {
   "cell_type": "code",
   "execution_count": 1,
   "metadata": {},
   "outputs": [
    {
     "data": {
      "text/html": [
       "<div>\n",
       "<style scoped>\n",
       "    .dataframe tbody tr th:only-of-type {\n",
       "        vertical-align: middle;\n",
       "    }\n",
       "\n",
       "    .dataframe tbody tr th {\n",
       "        vertical-align: top;\n",
       "    }\n",
       "\n",
       "    .dataframe thead th {\n",
       "        text-align: right;\n",
       "    }\n",
       "</style>\n",
       "<table border=\"1\" class=\"dataframe\">\n",
       "  <thead>\n",
       "    <tr style=\"text-align: right;\">\n",
       "      <th></th>\n",
       "      <th>id_batiment</th>\n",
       "      <th>nb_maisons</th>\n",
       "      <th>infra_id</th>\n",
       "      <th>infra_type</th>\n",
       "      <th>longueur</th>\n",
       "    </tr>\n",
       "  </thead>\n",
       "  <tbody>\n",
       "    <tr>\n",
       "      <th>10</th>\n",
       "      <td>E000003</td>\n",
       "      <td>1</td>\n",
       "      <td>P007113</td>\n",
       "      <td>a_remplacer</td>\n",
       "      <td>12.193509</td>\n",
       "    </tr>\n",
       "    <tr>\n",
       "      <th>11</th>\n",
       "      <td>E000003</td>\n",
       "      <td>1</td>\n",
       "      <td>P007984</td>\n",
       "      <td>a_remplacer</td>\n",
       "      <td>30.057598</td>\n",
       "    </tr>\n",
       "    <tr>\n",
       "      <th>12</th>\n",
       "      <td>E000003</td>\n",
       "      <td>1</td>\n",
       "      <td>P007823</td>\n",
       "      <td>a_remplacer</td>\n",
       "      <td>12.290283</td>\n",
       "    </tr>\n",
       "    <tr>\n",
       "      <th>465</th>\n",
       "      <td>E000067</td>\n",
       "      <td>1</td>\n",
       "      <td>P006193</td>\n",
       "      <td>a_remplacer</td>\n",
       "      <td>12.186388</td>\n",
       "    </tr>\n",
       "    <tr>\n",
       "      <th>466</th>\n",
       "      <td>E000067</td>\n",
       "      <td>1</td>\n",
       "      <td>P002851</td>\n",
       "      <td>a_remplacer</td>\n",
       "      <td>10.803202</td>\n",
       "    </tr>\n",
       "  </tbody>\n",
       "</table>\n",
       "</div>"
      ],
      "text/plain": [
       "    id_batiment  nb_maisons infra_id   infra_type   longueur\n",
       "10      E000003           1  P007113  a_remplacer  12.193509\n",
       "11      E000003           1  P007984  a_remplacer  30.057598\n",
       "12      E000003           1  P007823  a_remplacer  12.290283\n",
       "465     E000067           1  P006193  a_remplacer  12.186388\n",
       "466     E000067           1  P002851  a_remplacer  10.803202"
      ]
     },
     "execution_count": 1,
     "metadata": {},
     "output_type": "execute_result"
    }
   ],
   "source": [
    "#Etape 1 : Importer la dataset en créer une dataframe\n",
    "import pandas as pd\n",
    "pd.set_option('display.max_columns', None)\n",
    "df = pd.read_csv(\"./Dataset/reseau_en_arbre.csv\")\n",
    "\n",
    "#Création d'un Dataframe ne contenant uniquement les informations dont infra_type = a_remplacer\n",
    "df = df[df[\"infra_type\"] == \"a_remplacer\"]\n",
    "df.head()"
   ]
  },
  {
   "cell_type": "markdown",
   "metadata": {},
   "source": [
    "A ce niveau, on importe la fonction instance_functions qui permettra de créer des objets de types batiments et infrastructure"
   ]
  },
  {
   "cell_type": "code",
   "execution_count": 2,
   "metadata": {},
   "outputs": [],
   "source": [
    "from packages.instance_functions import *\n",
    "from packages.infra import *"
   ]
  },
  {
   "cell_type": "code",
   "execution_count": 4,
   "metadata": {},
   "outputs": [
    {
     "name": "stdout",
     "output_type": "stream",
     "text": [
      "    infra_id  nb_maisons   infra_type   longueur\n",
      "0    P000462           3  a_remplacer   3.694776\n",
      "1    P000464           4  a_remplacer   4.858753\n",
      "2    P000470           6  a_remplacer   2.572249\n",
      "3    P000476           8  a_remplacer   4.084845\n",
      "4    P000494          19  a_remplacer   4.840070\n",
      "..       ...         ...          ...        ...\n",
      "192  P008032           7  a_remplacer  10.520975\n",
      "193  P008033           8  a_remplacer  30.536827\n",
      "194  P008034           1  a_remplacer  10.009903\n",
      "195  P008035           4  a_remplacer  11.719759\n",
      "196  P008036           1  a_remplacer   7.441760\n",
      "\n",
      "[197 rows x 4 columns]\n",
      "[<packages.infra.Infra object at 0x0000025937390830>, <packages.infra.Infra object at 0x0000025937BE7AD0>, <packages.infra.Infra object at 0x0000025937BE7A70>, <packages.infra.Infra object at 0x0000025937BE7C20>, <packages.infra.Infra object at 0x0000025937BE7D40>, <packages.infra.Infra object at 0x0000025937BE7920>, <packages.infra.Infra object at 0x0000025937BE79E0>, <packages.infra.Infra object at 0x0000025937BE7980>, <packages.infra.Infra object at 0x0000025937BE7C80>, <packages.infra.Infra object at 0x0000025937BE77A0>, <packages.infra.Infra object at 0x0000025937BE78C0>, <packages.infra.Infra object at 0x0000025937BE7BC0>, <packages.infra.Infra object at 0x0000025937BE7DA0>, <packages.infra.Infra object at 0x0000025937BE7740>, <packages.infra.Infra object at 0x0000025937BE7A40>, <packages.infra.Infra object at 0x0000025937BE7EF0>, <packages.infra.Infra object at 0x0000025937BE7E60>, <packages.infra.Infra object at 0x0000025937BE7E30>, <packages.infra.Infra object at 0x0000025937BE7B00>, <packages.infra.Infra object at 0x0000025937BE7770>, <packages.infra.Infra object at 0x0000025937BE7230>, <packages.infra.Infra object at 0x0000025937BE71D0>, <packages.infra.Infra object at 0x0000025937BE7170>, <packages.infra.Infra object at 0x0000025937BE7110>, <packages.infra.Infra object at 0x0000025937BE70B0>, <packages.infra.Infra object at 0x0000025937BE7050>, <packages.infra.Infra object at 0x0000025937BE6FC0>, <packages.infra.Infra object at 0x0000025937BE6F60>, <packages.infra.Infra object at 0x0000025937BE6F00>, <packages.infra.Infra object at 0x0000025937BE6EA0>, <packages.infra.Infra object at 0x0000025937BE6E40>, <packages.infra.Infra object at 0x0000025937BE6DE0>, <packages.infra.Infra object at 0x0000025937BE6D80>, <packages.infra.Infra object at 0x0000025937BE6D20>, <packages.infra.Infra object at 0x0000025937BE6CC0>, <packages.infra.Infra object at 0x0000025937BE6BD0>, <packages.infra.Infra object at 0x0000025937BE6B40>, <packages.infra.Infra object at 0x0000025937BE6AE0>, <packages.infra.Infra object at 0x0000025937BE69F0>, <packages.infra.Infra object at 0x0000025937BE6990>, <packages.infra.Infra object at 0x0000025937BE6930>, <packages.infra.Infra object at 0x0000025937BE68D0>, <packages.infra.Infra object at 0x0000025937BE6870>, <packages.infra.Infra object at 0x0000025937BE6780>, <packages.infra.Infra object at 0x0000025937BE6720>, <packages.infra.Infra object at 0x0000025937BE66C0>, <packages.infra.Infra object at 0x0000025937BE6660>, <packages.infra.Infra object at 0x0000025937BE65D0>, <packages.infra.Infra object at 0x0000025937BE6570>, <packages.infra.Infra object at 0x0000025937BE6510>, <packages.infra.Infra object at 0x0000025937BE64B0>, <packages.infra.Infra object at 0x0000025937BE6450>, <packages.infra.Infra object at 0x0000025937BE63F0>, <packages.infra.Infra object at 0x0000025937BE6390>, <packages.infra.Infra object at 0x0000025937BE6330>, <packages.infra.Infra object at 0x0000025937BE6270>, <packages.infra.Infra object at 0x0000025937BE6210>, <packages.infra.Infra object at 0x0000025937BE61B0>, <packages.infra.Infra object at 0x0000025937BE60C0>, <packages.infra.Infra object at 0x0000025937BE6060>, <packages.infra.Infra object at 0x0000025937BE5F40>, <packages.infra.Infra object at 0x0000025937BE5EE0>, <packages.infra.Infra object at 0x0000025937BE5E50>, <packages.infra.Infra object at 0x0000025937BE5DF0>, <packages.infra.Infra object at 0x0000025937BE5D90>, <packages.infra.Infra object at 0x0000025937BE5D30>, <packages.infra.Infra object at 0x0000025937BE5CD0>, <packages.infra.Infra object at 0x0000025937BE5C70>, <packages.infra.Infra object at 0x0000025937BE5C10>, <packages.infra.Infra object at 0x0000025937BE5BB0>, <packages.infra.Infra object at 0x0000025937BE5B50>, <packages.infra.Infra object at 0x0000025937BE5AF0>, <packages.infra.Infra object at 0x0000025937BE5A90>, <packages.infra.Infra object at 0x0000025937BE5940>, <packages.infra.Infra object at 0x0000025937BE58B0>, <packages.infra.Infra object at 0x0000025937BE5850>, <packages.infra.Infra object at 0x0000025937BE57F0>, <packages.infra.Infra object at 0x0000025937BE5790>, <packages.infra.Infra object at 0x0000025937BE5730>, <packages.infra.Infra object at 0x0000025937BE56D0>, <packages.infra.Infra object at 0x0000025937BE5670>, <packages.infra.Infra object at 0x0000025937BE5610>, <packages.infra.Infra object at 0x0000025937BE55B0>, <packages.infra.Infra object at 0x0000025937BE5550>, <packages.infra.Infra object at 0x0000025937BE54F0>, <packages.infra.Infra object at 0x0000025937BE5490>, <packages.infra.Infra object at 0x0000025937BE5310>, <packages.infra.Infra object at 0x0000025937BE52B0>, <packages.infra.Infra object at 0x0000025937BE5220>, <packages.infra.Infra object at 0x0000025937BE5130>, <packages.infra.Infra object at 0x0000025937BE50D0>, <packages.infra.Infra object at 0x0000025937BE4F80>, <packages.infra.Infra object at 0x0000025937BE4F20>, <packages.infra.Infra object at 0x0000025937BE4EC0>, <packages.infra.Infra object at 0x0000025937BE4E60>, <packages.infra.Infra object at 0x0000025937BE4E00>, <packages.infra.Infra object at 0x0000025937BE4DA0>, <packages.infra.Infra object at 0x0000025937BE4CE0>, <packages.infra.Infra object at 0x0000025937BE4C80>, <packages.infra.Infra object at 0x0000025937BE4C20>, <packages.infra.Infra object at 0x0000025937BE4BC0>, <packages.infra.Infra object at 0x0000025937BE4B60>, <packages.infra.Infra object at 0x0000025937BE4B00>, <packages.infra.Infra object at 0x0000025937BE4A10>, <packages.infra.Infra object at 0x0000025937BE49B0>, <packages.infra.Infra object at 0x0000025937BE4950>, <packages.infra.Infra object at 0x0000025937BE48F0>, <packages.infra.Infra object at 0x0000025937BE4890>, <packages.infra.Infra object at 0x0000025937BE4830>, <packages.infra.Infra object at 0x0000025937BE47D0>, <packages.infra.Infra object at 0x0000025937BE46E0>, <packages.infra.Infra object at 0x0000025937BE4680>, <packages.infra.Infra object at 0x0000025937BE4620>, <packages.infra.Infra object at 0x0000025937BE45C0>, <packages.infra.Infra object at 0x0000025937BE4560>, <packages.infra.Infra object at 0x0000025937BE4500>, <packages.infra.Infra object at 0x0000025937BE4440>, <packages.infra.Infra object at 0x0000025937BE4290>, <packages.infra.Infra object at 0x0000025937BE4230>, <packages.infra.Infra object at 0x0000025937BE41D0>, <packages.infra.Infra object at 0x0000025937BE4170>, <packages.infra.Infra object at 0x0000025937BE40E0>, <packages.infra.Infra object at 0x0000025937BE4080>, <packages.infra.Infra object at 0x00000259185AEFC0>, <packages.infra.Infra object at 0x00000259185AEED0>, <packages.infra.Infra object at 0x00000259185AE5D0>, <packages.infra.Infra object at 0x00000259185AD1F0>, <packages.infra.Infra object at 0x0000025936FD3290>, <packages.infra.Infra object at 0x0000025937824080>, <packages.infra.Infra object at 0x000002591874C0B0>, <packages.infra.Infra object at 0x000002591874C080>, <packages.infra.Infra object at 0x0000025936B3EEA0>, <packages.infra.Infra object at 0x0000025936B3FC20>, <packages.infra.Infra object at 0x0000025936B3F770>, <packages.infra.Infra object at 0x000002593786D7F0>, <packages.infra.Infra object at 0x0000025937BED970>, <packages.infra.Infra object at 0x0000025937BED8E0>, <packages.infra.Infra object at 0x0000025937BED400>, <packages.infra.Infra object at 0x0000025937BEE5A0>, <packages.infra.Infra object at 0x0000025937BEE570>, <packages.infra.Infra object at 0x0000025937BEDF70>, <packages.infra.Infra object at 0x0000025937BEDB80>, <packages.infra.Infra object at 0x0000025937BED430>, <packages.infra.Infra object at 0x0000025937BED130>, <packages.infra.Infra object at 0x0000025937BED190>, <packages.infra.Infra object at 0x0000025937BED0A0>, <packages.infra.Infra object at 0x0000025937BED0D0>, <packages.infra.Infra object at 0x0000025937BED2B0>, <packages.infra.Infra object at 0x0000025937BEE060>, <packages.infra.Infra object at 0x0000025937BEC530>, <packages.infra.Infra object at 0x0000025937BED310>, <packages.infra.Infra object at 0x0000025937BED1F0>, <packages.infra.Infra object at 0x0000025937BED280>, <packages.infra.Infra object at 0x0000025937BED160>, <packages.infra.Infra object at 0x0000025937BECEC0>, <packages.infra.Infra object at 0x0000025937BECDD0>, <packages.infra.Infra object at 0x0000025937BECD70>, <packages.infra.Infra object at 0x0000025937BECD10>, <packages.infra.Infra object at 0x0000025937BECC20>, <packages.infra.Infra object at 0x0000025937BECC50>, <packages.infra.Infra object at 0x0000025937BECB90>, <packages.infra.Infra object at 0x0000025937BECB60>, <packages.infra.Infra object at 0x0000025937BECB30>, <packages.infra.Infra object at 0x0000025937BECA10>, <packages.infra.Infra object at 0x0000025937BEC9E0>, <packages.infra.Infra object at 0x0000025937BEC980>, <packages.infra.Infra object at 0x0000025937BEC950>, <packages.infra.Infra object at 0x0000025937BEC860>, <packages.infra.Infra object at 0x0000025937BEC890>, <packages.infra.Infra object at 0x0000025937BEC800>, <packages.infra.Infra object at 0x0000025937BEC770>, <packages.infra.Infra object at 0x0000025937BEC7A0>, <packages.infra.Infra object at 0x0000025937BEC6E0>, <packages.infra.Infra object at 0x0000025937BEC6B0>, <packages.infra.Infra object at 0x0000025937BEC680>, <packages.infra.Infra object at 0x0000025937BEC5F0>, <packages.infra.Infra object at 0x0000025937BEC590>, <packages.infra.Infra object at 0x0000025937BEC500>, <packages.infra.Infra object at 0x0000025937BEC4A0>, <packages.infra.Infra object at 0x0000025937BEC410>, <packages.infra.Infra object at 0x0000025937BEC3B0>, <packages.infra.Infra object at 0x0000025937BEC2F0>, <packages.infra.Infra object at 0x0000025937BEC2C0>, <packages.infra.Infra object at 0x0000025937BEC230>, <packages.infra.Infra object at 0x0000025937BEC1A0>, <packages.infra.Infra object at 0x0000025937BEC170>, <packages.infra.Infra object at 0x0000025937BEC0E0>, <packages.infra.Infra object at 0x0000025937BEC080>, <packages.infra.Infra object at 0x0000025937BEC050>, <packages.infra.Infra object at 0x0000025937BEC440>, <packages.infra.Infra object at 0x0000025937BEDB50>, <packages.infra.Infra object at 0x0000025937BEDC10>, <packages.infra.Infra object at 0x0000025937BEE0C0>, <packages.infra.Infra object at 0x0000025936FAE990>, <packages.infra.Infra object at 0x0000025936FAE7B0>, <packages.infra.Infra object at 0x0000025936FAFC50>, <packages.infra.Infra object at 0x00000259379E5520>]\n",
      "3.69477602082419\n",
      "[1.2315920069413966, 1.21468827603081, 0.4287082431909934, 0.510605619736035, 0.25474053327828, 9.68226549663264, 4.98282106064181, 6.05514938826793, 4.90868168597643, 5.31366434867898, 5.1921602413572, 5.16644492273189, 5.79686473036686, 5.06471817304192, 0.2609307158735122, 3.289985558485475, 1.29899271965775, 0.2631009416733976, 5.23566836620947, 2.781603854850015, 4.62412685627937, 5.4200839327337, 5.46510947034025, 13.4887076792516, 3.81796822472991, 6.96033389014315, 6.93113318288768, 10.8032015604234, 3.57039201834049, 1.95148972393884, 4.15569057940082, 3.1253004902372, 1.4839151376505966, 2.16138090303294, 2.74214766396667, 10.912493042733, 6.60463481490573, 5.82173712682777, 3.87140661050286, 4.98774688446106, 2.87454919232451, 6.74245151722195, 5.83511135139461, 3.05687732398736, 2.6965794525273004, 2.0081143427584824, 1.322276533522216, 2.05049410815887, 2.723128223367595, 0.9801652492324122, 1.35956790003619, 0.1526769939772327, 4.420900860366166, 14.491126102841, 5.975855637765, 2.19033915086785, 14.8493095953268, 12.9108403618454, 4.534980312037834, 13.8935987811649, 14.510677085006, 7.28592395048225, 12.8261922697184, 12.8869548736554, 12.1863879405322, 4.888157998104735, 3.355303403694475, 3.13906938574855, 0.623321650455, 12.1935087083631, 2.84535154473363, 7.9742290455672, 6.8843047480427, 9.86535817150771, 9.79128091421177, 4.92849119929359, 12.9024250386495, 5.64944506755882, 7.52768320033647, 14.6582864643116, 8.2451799365212, 10.3279655802057, 4.91814131725302, 10.759672538483, 12.4769836838268, 12.7359304342272, 2.84839658610424, 11.0908638527212, 6.64993672554073, 3.33630911377794, 8.33224937288682, 8.72690474251765, 10.7507961303452, 7.13168893719009, 6.4644213871373, 6.60727277655205, 4.70550586894857, 5.62700791605979, 8.43108274854405, 3.081639376471, 10.402928114011, 10.0082136912815, 6.31480197224767, 11.2388526888587, 7.64056605573305, 7.79612855602243, 8.8689078508038, 7.57918244268621, 3.98512786168602, 4.10990474598487, 8.53830202306228, 4.7919164305287, 11.4459140938685, 5.10207355361142, 6.13280316452202, 6.69156313094176, 3.03521930158189, 3.39796783687204, 1.45309505359909, 3.55803562516816, 4.5706986139249, 7.59049553958964, 5.1037127857757, 9.64962873769354, 4.38499382431335, 14.6793721892947, 9.47252997174691, 11.7815303649109, 4.73832300241692, 10.1403162890544, 14.7479475229988, 11.9577038177932, 6.32141109105695, 3.79968906454059, 4.66009795790718, 3.12835142463862, 6.65725214040895, 4.11611330130554, 10.9647553869973, 9.32956330061528, 3.21575403753504, 8.95144561872574, 9.91136244085116, 8.13675729756796, 5.85611808756648, 4.65316558492902, 0.372684471449813, 1.36523196955369, 12.290282829583, 30.0575979492587, 10.4897301634131, 17.9351395403247, 6.2342870107185, 2.5029435391982666, 10.3986057299725, 1.6778483650714768, 10.34572707597575, 9.96720012610787, 15.06478858947565, 37.0636340148083, 42.1144223056854, 0.245045335811723, 6.26733715698805, 1.0621743691341063, 0.23710587131142224, 1.2003502670486241, 17.9528543234573, 6.84639309859005, 11.371805747045967, 8.401970244197534, 0.6313039289454017, 5.0403200410086, 0.25493870498764637, 0.9208440431643956, 13.8302331906613, 17.30541889340335, 1.1490551225856742, 2.13613161274306, 14.7483787687636, 0.83318334387065, 11.7528304195152, 14.9117118858221, 17.4186286326591, 11.2796548571624, 18.3100645954404, 2.691832629116875, 12.0182044137484, 20.455789433764, 36.9797725156077, 16.1167114883896, 10.1313417193291, 1.2198813752385556, 1.5029963977197, 3.8171033649647, 10.0099030897997, 2.9299398062719, 7.44176035956022]\n"
     ]
    }
   ],
   "source": [
    "### Création d'une liste d'infrastructure vide\n",
    "list_infra = []\n",
    "\n",
    "##########  l'objectif sur cette ligne dee code est de pouvoir regrouper les infrastructures tout en ayant le total de maisons quelles permettent de raccorder\n",
    "##########  \n",
    "infras_subdf = df.groupby(by=\"infra_id\").agg({\"nb_maisons\": \"sum\",\"infra_type\": \"first\", \"longueur\": \"mean\" }).reset_index()\n",
    "print(infras_subdf)\n",
    "infras_subdf.head()\n",
    "list_infra = infra_list(infras_subdf)\n",
    "print(list_infra)\n",
    "print(list_infra[0].length)\n",
    "\n",
    "###### Calcul de la difficulté de chaque infrastructure\n",
    "list_of_difficulty_infra = []\n",
    "for i in range (len(list_infra)):\n",
    "    diff_infra = list_infra[i].get_infra_difficulty()\n",
    "    list_of_difficulty_infra.append(diff_infra)\n",
    "\n",
    "\n",
    "\n",
    "print(list_of_difficulty_infra)\n",
    "\n",
    "\n",
    "\n",
    "\n",
    "\n",
    "\n",
    "\n",
    "\n",
    "\n",
    "\n"
   ]
  },
  {
   "cell_type": "code",
   "execution_count": null,
   "metadata": {},
   "outputs": [],
   "source": []
  },
  {
   "cell_type": "code",
   "execution_count": null,
   "metadata": {},
   "outputs": [],
   "source": []
  },
  {
   "cell_type": "code",
   "execution_count": null,
   "metadata": {},
   "outputs": [],
   "source": [
    "list_infra_batiments = []\n",
    "bats_subdf = df.groupby(by=\"id_batiment\")\n",
    "\n",
    "for id_bat, bat_subdf in \n"
   ]
  }
 ],
 "metadata": {
  "kernelspec": {
   "display_name": "EC_env",
   "language": "python",
   "name": "ec_env"
  },
  "language_info": {
   "codemirror_mode": {
    "name": "ipython",
    "version": 3
   },
   "file_extension": ".py",
   "mimetype": "text/x-python",
   "name": "python",
   "nbconvert_exporter": "python",
   "pygments_lexer": "ipython3",
   "version": "3.12.0"
  }
 },
 "nbformat": 4,
 "nbformat_minor": 4
}

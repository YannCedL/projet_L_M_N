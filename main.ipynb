{
 "cells": [
  {
   "cell_type": "code",
   "execution_count": 1,
   "metadata": {},
   "outputs": [
    {
     "data": {
      "text/html": [
       "<div>\n",
       "<style scoped>\n",
       "    .dataframe tbody tr th:only-of-type {\n",
       "        vertical-align: middle;\n",
       "    }\n",
       "\n",
       "    .dataframe tbody tr th {\n",
       "        vertical-align: top;\n",
       "    }\n",
       "\n",
       "    .dataframe thead th {\n",
       "        text-align: right;\n",
       "    }\n",
       "</style>\n",
       "<table border=\"1\" class=\"dataframe\">\n",
       "  <thead>\n",
       "    <tr style=\"text-align: right;\">\n",
       "      <th></th>\n",
       "      <th>id_batiment</th>\n",
       "      <th>nb_maisons</th>\n",
       "      <th>infra_id</th>\n",
       "      <th>infra_type</th>\n",
       "      <th>longueur</th>\n",
       "    </tr>\n",
       "  </thead>\n",
       "  <tbody>\n",
       "    <tr>\n",
       "      <th>10</th>\n",
       "      <td>E000003</td>\n",
       "      <td>1</td>\n",
       "      <td>P007113</td>\n",
       "      <td>a_remplacer</td>\n",
       "      <td>12.193509</td>\n",
       "    </tr>\n",
       "    <tr>\n",
       "      <th>11</th>\n",
       "      <td>E000003</td>\n",
       "      <td>1</td>\n",
       "      <td>P007984</td>\n",
       "      <td>a_remplacer</td>\n",
       "      <td>30.057598</td>\n",
       "    </tr>\n",
       "    <tr>\n",
       "      <th>12</th>\n",
       "      <td>E000003</td>\n",
       "      <td>1</td>\n",
       "      <td>P007823</td>\n",
       "      <td>a_remplacer</td>\n",
       "      <td>12.290283</td>\n",
       "    </tr>\n",
       "    <tr>\n",
       "      <th>465</th>\n",
       "      <td>E000067</td>\n",
       "      <td>1</td>\n",
       "      <td>P006193</td>\n",
       "      <td>a_remplacer</td>\n",
       "      <td>12.186388</td>\n",
       "    </tr>\n",
       "    <tr>\n",
       "      <th>466</th>\n",
       "      <td>E000067</td>\n",
       "      <td>1</td>\n",
       "      <td>P002851</td>\n",
       "      <td>a_remplacer</td>\n",
       "      <td>10.803202</td>\n",
       "    </tr>\n",
       "  </tbody>\n",
       "</table>\n",
       "</div>"
      ],
      "text/plain": [
       "    id_batiment  nb_maisons infra_id   infra_type   longueur\n",
       "10      E000003           1  P007113  a_remplacer  12.193509\n",
       "11      E000003           1  P007984  a_remplacer  30.057598\n",
       "12      E000003           1  P007823  a_remplacer  12.290283\n",
       "465     E000067           1  P006193  a_remplacer  12.186388\n",
       "466     E000067           1  P002851  a_remplacer  10.803202"
      ]
     },
     "execution_count": 1,
     "metadata": {},
     "output_type": "execute_result"
    }
   ],
   "source": [
    "#Etape 1 : Importer la dataset en créer une dataframe\n",
    "import pandas as pd\n",
    "\n",
    "df = pd.read_csv(\"./Dataset/reseau_en_arbre.csv\")\n",
    "\n",
    "#Création d'un Dataframe ne contenant uniquement les informations dont infra_type = a_remplacer\n",
    "df = df[df[\"infra_type\"] == \"a_remplacer\"]\n",
    "df.head()"
   ]
  },
  {
   "cell_type": "code",
   "execution_count": 81,
   "metadata": {},
   "outputs": [
    {
     "name": "stdout",
     "output_type": "stream",
     "text": [
      "P000462\n",
      "          nb_maisons   infra_type  longueur\n",
      "infra_id                                   \n",
      "P000462            3  a_remplacer  3.694776\n",
      "[3, 'a_remplacer', 3.69477602082419]\n",
      "1\n"
     ]
    },
    {
     "ename": "IndexError",
     "evalue": "list index out of range",
     "output_type": "error",
     "traceback": [
      "\u001b[1;31m---------------------------------------------------------------------------\u001b[0m",
      "\u001b[1;31mIndexError\u001b[0m                                Traceback (most recent call last)",
      "Cell \u001b[1;32mIn[81], line 23\u001b[0m\n\u001b[0;32m     20\u001b[0m \u001b[38;5;28mprint\u001b[39m(item_infra[\u001b[38;5;241m0\u001b[39m])\n\u001b[0;32m     21\u001b[0m \u001b[38;5;28mprint\u001b[39m(\u001b[38;5;28mlen\u001b[39m(item_infra))\n\u001b[1;32m---> 23\u001b[0m \u001b[38;5;28mlist\u001b[39m\u001b[38;5;241m.\u001b[39mappend(\u001b[43minfra_list\u001b[49m\u001b[43m(\u001b[49m\u001b[43minfra_subdf\u001b[49m\u001b[43m)\u001b[49m)\n\u001b[0;32m     24\u001b[0m \u001b[38;5;66;03m#print(list)\u001b[39;00m\n\u001b[0;32m     25\u001b[0m \u001b[38;5;28mprint\u001b[39m(\u001b[38;5;124m\"\u001b[39m\u001b[38;5;124m_\u001b[39m\u001b[38;5;124m\"\u001b[39m\u001b[38;5;241m*\u001b[39m\u001b[38;5;241m30\u001b[39m)\n",
      "File \u001b[1;32mc:\\Users\\sandr\\Documents\\coursMD4\\semestre1\\Mathematiques\\Projet_fin_module\\electrical_connection\\packages\\instance_functions.py:5\u001b[0m, in \u001b[0;36minfra_list\u001b[1;34m(df)\u001b[0m\n\u001b[0;32m      4\u001b[0m \u001b[38;5;28;01mdef\u001b[39;00m \u001b[38;5;21minfra_list\u001b[39m(df) \u001b[38;5;241m-\u001b[39m\u001b[38;5;241m>\u001b[39m \u001b[38;5;28mlist\u001b[39m:\n\u001b[1;32m----> 5\u001b[0m     \u001b[38;5;28;01mreturn\u001b[39;00m \u001b[38;5;28;43mlist\u001b[39;49m\u001b[43m(\u001b[49m\u001b[38;5;28;43mmap\u001b[39;49m\u001b[43m(\u001b[49m\u001b[38;5;28;43;01mlambda\u001b[39;49;00m\u001b[43m \u001b[49m\u001b[43mrow\u001b[49m\u001b[43m:\u001b[49m\u001b[43m \u001b[49m\u001b[43mInfra\u001b[49m\u001b[43m(\u001b[49m\u001b[43minfra_id\u001b[49m\u001b[38;5;241;43m=\u001b[39;49m\u001b[43mrow\u001b[49m\u001b[43m[\u001b[49m\u001b[38;5;241;43m1\u001b[39;49m\u001b[43m]\u001b[49m\u001b[43m,\u001b[49m\u001b[43m \u001b[49m\u001b[43mnb_houses\u001b[49m\u001b[38;5;241;43m=\u001b[39;49m\u001b[43mrow\u001b[49m\u001b[43m[\u001b[49m\u001b[38;5;241;43m2\u001b[39;49m\u001b[43m]\u001b[49m\u001b[43m,\u001b[49m\u001b[43m \u001b[49m\u001b[43minfra_type\u001b[49m\u001b[38;5;241;43m=\u001b[39;49m\u001b[43mrow\u001b[49m\u001b[43m[\u001b[49m\u001b[38;5;241;43m3\u001b[39;49m\u001b[43m]\u001b[49m\u001b[43m,\u001b[49m\u001b[43m \u001b[49m\u001b[43mlength\u001b[49m\u001b[38;5;241;43m=\u001b[39;49m\u001b[43mrow\u001b[49m\u001b[43m[\u001b[49m\u001b[38;5;241;43m4\u001b[39;49m\u001b[43m]\u001b[49m\u001b[43m)\u001b[49m\u001b[43m,\u001b[49m\u001b[43m \u001b[49m\u001b[43mdf\u001b[49m\u001b[38;5;241;43m.\u001b[39;49m\u001b[43mvalues\u001b[49m\u001b[38;5;241;43m.\u001b[39;49m\u001b[43mtolist\u001b[49m\u001b[43m(\u001b[49m\u001b[43m)\u001b[49m\u001b[43m)\u001b[49m\u001b[43m)\u001b[49m\n",
      "File \u001b[1;32mc:\\Users\\sandr\\Documents\\coursMD4\\semestre1\\Mathematiques\\Projet_fin_module\\electrical_connection\\packages\\instance_functions.py:5\u001b[0m, in \u001b[0;36minfra_list.<locals>.<lambda>\u001b[1;34m(row)\u001b[0m\n\u001b[0;32m      4\u001b[0m \u001b[38;5;28;01mdef\u001b[39;00m \u001b[38;5;21minfra_list\u001b[39m(df) \u001b[38;5;241m-\u001b[39m\u001b[38;5;241m>\u001b[39m \u001b[38;5;28mlist\u001b[39m:\n\u001b[1;32m----> 5\u001b[0m     \u001b[38;5;28;01mreturn\u001b[39;00m \u001b[38;5;28mlist\u001b[39m(\u001b[38;5;28mmap\u001b[39m(\u001b[38;5;28;01mlambda\u001b[39;00m row: Infra(infra_id\u001b[38;5;241m=\u001b[39mrow[\u001b[38;5;241m1\u001b[39m], nb_houses\u001b[38;5;241m=\u001b[39mrow[\u001b[38;5;241m2\u001b[39m], infra_type\u001b[38;5;241m=\u001b[39m\u001b[43mrow\u001b[49m\u001b[43m[\u001b[49m\u001b[38;5;241;43m3\u001b[39;49m\u001b[43m]\u001b[49m, length\u001b[38;5;241m=\u001b[39mrow[\u001b[38;5;241m4\u001b[39m]), df\u001b[38;5;241m.\u001b[39mvalues\u001b[38;5;241m.\u001b[39mtolist()))\n",
      "\u001b[1;31mIndexError\u001b[0m: list index out of range"
     ]
    }
   ],
   "source": [
    "# from packages.instance_functions import *\n",
    "# from packages.infra import *\n",
    "\n",
    "# infras_subdf = df.groupby(by=\"infra_id\")\n",
    "# infras_subdf.head(5)\n",
    "\n",
    "\n",
    "\n",
    "\n",
    "# list = []\n",
    "# for id_infra, infra_subdf in infras_subdf:\n",
    "#     print(id_infra)\n",
    "    \n",
    "    \n",
    "    \n",
    "#     infra_subdf = infra_subdf.groupby(\"infra_id\").agg({\"nb_maisons\": \"sum\",\"infra_type\": \"first\", \"longueur\": \"mean\" })\n",
    "#     print(infra_subdf)\n",
    "#     item_infra = infra_subdf.values.tolist()\n",
    "    \n",
    "#     print(item_infra[0])\n",
    "#     print(len(item_infra))\n",
    "    \n",
    "#     list.append(infra_list(infra_subdf))\n",
    "#     #print(list)\n",
    "#     print(\"_\"*30)\n",
    "\n",
    "# print(len(list))\n",
    "\n"
   ]
  }
 ],
 "metadata": {
  "kernelspec": {
   "display_name": "EC_env",
   "language": "python",
   "name": "ec_env"
  },
  "language_info": {
   "codemirror_mode": {
    "name": "ipython",
    "version": 3
   },
   "file_extension": ".py",
   "mimetype": "text/x-python",
   "name": "python",
   "nbconvert_exporter": "python",
   "pygments_lexer": "ipython3",
   "version": "3.12.0"
  }
 },
 "nbformat": 4,
 "nbformat_minor": 4
}
